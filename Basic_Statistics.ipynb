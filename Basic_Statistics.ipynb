{
 "cells": [
  {
   "cell_type": "markdown",
   "id": "3b0b96ff-84a5-4b4e-8f15-4717976f9c42",
   "metadata": {},
   "source": [
    "Question1. Explain the different types of data (qualitative and quantitative) and provide examples of each. Discuss\n",
    "nominal, ordinal, interval, and ratio scales."
   ]
  },
  {
   "cell_type": "markdown",
   "id": "b9105f23-5042-48e0-8495-b0722a85ced4",
   "metadata": {},
   "source": [
    "Data is defined as facts or piecies of information that can be stored, measured and reacessed. And data is of two types \n",
    "1. Qualitative data \n",
    "2. Quantitative data \n",
    "\n",
    "Qualitative data is also known as Categorical data which is further categorised as Nominal Categorical Data and Ordinal Categorical data.\n",
    "where nominal data is that which didnt have any natural order for example Gender, race, ethinicity etc while ordinal data is that data which have order in it for example Rank , Grades etc.\n",
    "\n",
    "\n",
    "\n",
    "Quantitative data is also known as Numerical Data which is further categorised as Discrete and Continous data . where Discrete data is defined as  which takes specific finite whole number. for example number of children, total number of employees in a team etc, while continous data is defined as any value in range for example real numbers , length, weight, height etc.\n",
    "\n",
    "\n"
   ]
  },
  {
   "cell_type": "markdown",
   "id": "22520539-e383-45a1-bac4-5915f0c88b40",
   "metadata": {},
   "source": [
    "scales "
   ]
  },
  {
   "cell_type": "markdown",
   "id": "43d7ef7d-03e2-4f5a-bdd4-995c739add3e",
   "metadata": {},
   "source": [
    "Nominal scale and ordinal scale are Qalitative measures basically they classifies into non-numdric categories, while Interval and Ratio scales are Quantitative Measures which classifies data into numeric categoreis.\n",
    "\n",
    "1) Nominal Scale - Qualitative or Categorical data\n",
    "                 - no order in the data\n",
    "                 - pie chart and bar plot is used to respresent this type of data\n",
    "                 - exapmes are Gender, ethinicity, race etc\n",
    "\n",
    "   \n",
    "2) Ordinal Scale - order and Rank has a meaning\n",
    "                 - Difference can't be measured\n",
    "                 - pie chart, barplot and frequency plot is generally used to represent this data\n",
    "                 - exapmles are educational Qualification, rank etc\n",
    "\n",
    "\n",
    "3) Interval Scale - the rank and order has a meaning\n",
    "                  - Difference can be measured ( exception including ratio)\n",
    "                  - it doesn't have necessarily zero as its starting point\n",
    "                  - histogram, scatter plot and line chart is generally used to represent this type of data\n",
    "                  - examples  are length, height, revenue of a company, temperature etc\n",
    "\n",
    "\n",
    "4) Ratio scale - order and rank has a meaning\n",
    "               - differences and ratio are meaurable\n",
    "               - it does have zero starting point compulsorly\n",
    "               -  exapmples are height, weight ,time , age etc "
   ]
  },
  {
   "cell_type": "markdown",
   "id": "365676c4-e5fb-4805-9235-dd950dc27cc2",
   "metadata": {},
   "source": [
    "Question2. What are the measures of central tendency, and when should you use each? Discuss the mean, median,\n",
    "and mode with examples and situations where each is appropriate."
   ]
  },
  {
   "cell_type": "markdown",
   "id": "d465fd06-308e-4205-9dd1-4267b1b2984f",
   "metadata": {},
   "source": [
    "cental tendency meaures the center point of a dataset basically measures of central tendency are\n",
    "\n",
    "1) Mean (also known as Arithmetic Mid Value of Data )_ it is used with the numerical data when there is no extreme values or outliers , as it is inflated or affected by extreme values or outliers.\n",
    "2) Median (also known as physical midpoint of data )_ it is used with the numerical data having extreme values as it is less inflated or affected by those extreme values as compared to mean values\n",
    "3) Mode _ used in case of categorical data"
   ]
  },
  {
   "cell_type": "markdown",
   "id": "faefc26f-d108-45a8-8bef-631c58ad5052",
   "metadata": {},
   "source": [
    "1) Mean is defined as summation of all the values by no of observation \n"
   ]
  },
  {
   "cell_type": "markdown",
   "id": "d6253368-9e87-4430-bd17-3d0a72fcff35",
   "metadata": {},
   "source": [
    "#example of mean without any extreme value \n",
    "# importing important libraries to compute measures of central tendency \n",
    "import numpy as np \n",
    "data = [1,2,3,4,5 ]\n",
    "np.mean(data)"
   ]
  },
  {
   "cell_type": "markdown",
   "id": "7e915f39-a026-48e9-af44-0b2a2332e830",
   "metadata": {},
   "source": [
    "#example of mean with an extreme value >>> here mean is inflated because of an outlier i.e 100 \n",
    "data1=[1,2,3,4,100]\n",
    "np.mean(data1)"
   ]
  },
  {
   "cell_type": "markdown",
   "id": "644b57de-dd70-465a-a16a-6fffb7b03204",
   "metadata": {},
   "source": [
    "2) Median - is the middle most element od data \n",
    "to calculate mean we will be first sort the data either in ascending or Dsecending order \n",
    "then count the number of elements \n",
    "a) if count is even then we take arithmetic mean of two central elements of dataset \n",
    "b) if count is odd then we calculate mean as n/2"
   ]
  },
  {
   "cell_type": "markdown",
   "id": "f28825dd-7fee-49e3-9552-957012adb28b",
   "metadata": {},
   "source": [
    "# exapmle of median with no extreme value \n",
    "data = [1,2,3,4,5,7,5,7,9]  \n",
    "np.median(data)"
   ]
  },
  {
   "cell_type": "markdown",
   "id": "5ff85c0f-9566-417f-bab5-ec0cde2000fb",
   "metadata": {},
   "source": [
    "# exapmle of median with an extreme value \n",
    "data1 = [1,2,3,4,5,7,5,7,9,100]    # here we can see median is not affected by extrem value in the data which is 100 here \n",
    "np.median(data1)"
   ]
  },
  {
   "cell_type": "markdown",
   "id": "b16b629f-bd54-4984-b341-62b6e6a7068b",
   "metadata": {},
   "source": [
    "3) Mode -mode is defined as element which is most frequent in dataset . "
   ]
  },
  {
   "cell_type": "markdown",
   "id": "27846cb6-e6bd-4762-97f0-faf5fc3e0c57",
   "metadata": {},
   "source": [
    "# exapmle of mode \n",
    "data= [4,2,2,3,7,8]\n",
    "import statistics\n",
    "statistics.mode(data)"
   ]
  },
  {
   "cell_type": "markdown",
   "id": "e1232c6c-1114-4cfb-96ac-146c7c760511",
   "metadata": {},
   "source": [
    "Question3.  Explain the concept of dispersion. How do variance and standard deviation measure the spread of data?"
   ]
  },
  {
   "cell_type": "markdown",
   "id": "948c373d-828f-4774-a21c-33a13beb2b5e",
   "metadata": {},
   "source": [
    "Dispersion refers to the degree of spread or scatter of data points around a central value. It provides insights into the variability of the data, indicating how tightly or loosely the values are clustered. \n",
    "\n",
    "variance and standard Deviation are the measures of dispersion where \n",
    "\n",
    "variance is defined as average of squared differences from the mean value. \n",
    "it tells about the spread at an overall level. As spread of data increases variance also increases and vice-versa.\n",
    "\n",
    "standard deviation is a measure of how spread out data is. And the square root of variance is defined as standard deviation.\n"
   ]
  },
  {
   "cell_type": "markdown",
   "id": "2b728ec6-1606-48a6-9a7c-d33fed177a0c",
   "metadata": {},
   "source": [
    "4. What is a box plot, and what can it tell you about the distribution of data?"
   ]
  },
  {
   "cell_type": "markdown",
   "id": "0cf326f3-fff3-455b-959f-3d7765c6b200",
   "metadata": {},
   "source": [
    "A box plot, also known as a box-and-whisker plot, is a graphical representation that summarizes the distribution of a dataset based on its five-number summary: minimum, first quartile (Q1), median (Q2), third quartile (Q3), and maximum. \n",
    "This visualization method is particularly effective for comparing multiple datasets and understanding their spread and central tendency.\n",
    "\n",
    "box plot is used to detect outliers. "
   ]
  },
  {
   "cell_type": "markdown",
   "id": "16b38832-f4c7-4072-bedd-048f0f3201e1",
   "metadata": {},
   "source": [
    "5. Discuss the role of random sampling in making inferences about populations."
   ]
  },
  {
   "cell_type": "markdown",
   "id": "fd633dc3-0a09-4e72-a613-e32e1f8cc892",
   "metadata": {},
   "source": [
    "Random sampling plays an important  role in making inferences about populations by allowing us to draw conclusions from a subset of data(Sample) that is representative of the larger group(Population).\n",
    "\n",
    "Random sampling minimizes selection bias by ensuring that every individual in the population has an equal chance of being included in the sample."
   ]
  },
  {
   "cell_type": "markdown",
   "id": "66ab0aca-105b-4db4-a8a0-0dbf75e3f998",
   "metadata": {},
   "source": [
    "6. Explain the concept of skewness and its types. How does skewness affect the interpretation of data?"
   ]
  },
  {
   "cell_type": "markdown",
   "id": "c13e651a-2c49-4ab9-b3c4-831417be47eb",
   "metadata": {},
   "source": [
    "kewness is a statistical measure that describes the asymmetry of a probability distribution. It indicates how much a distribution deviates from a normal distribution, where data points are symmetrically distributed around the mean.\n",
    "\n"
   ]
  },
  {
   "cell_type": "markdown",
   "id": "8899cdff-b734-4ec2-8465-0948d6e24004",
   "metadata": {},
   "source": [
    "types of Skweness "
   ]
  },
  {
   "cell_type": "markdown",
   "id": "12a1bc7c-d8ab-4de8-bdd7-b2c7c8bbd443",
   "metadata": {},
   "source": [
    "1) Positive Skewness (Right Skew):\n",
    "In a positively skewed distribution, the tail on the right side is longer or fatter than the left side. This means that most data points are concentrated on the left, with a few high values stretching the tail to the right.\n",
    "Characteristics:\n",
    "Mean > Median > Mode\n",
    "Common in distributions such as income or property values, where a small number of individuals have significantly higher values than the majority."
   ]
  },
  {
   "cell_type": "markdown",
   "id": "a22d889d-a0b7-4983-b405-179340f82bab",
   "metadata": {},
   "source": [
    "2) Negative Skewness (Left Skew):\n",
    "A negatively skewed distribution has a longer or fatter tail on the left side. Here, most data points are concentrated on the right, with a few low values pulling the tail to the left.\n",
    "Characteristics:\n",
    "Mean < Median < Mode\n",
    "Often observed in scenarios like test scores, where most students perform well but a few score poorly."
   ]
  },
  {
   "cell_type": "markdown",
   "id": "8441ae12-ada9-4af0-90bf-dae1644003fe",
   "metadata": {},
   "source": [
    "3. Zero Skewness:\n",
    "A distribution is considered to have zero skewness when it is symmetrical, meaning that the left and right tails are of equal length. In this case, mean = median = mode.\n",
    "This indicates a normal distribution where data points are evenly distributed around the central value."
   ]
  },
  {
   "cell_type": "markdown",
   "id": "09c3aeb4-3927-418c-b2f9-1dd48e04a818",
   "metadata": {},
   "source": [
    "Effects of Skewness on Data Interpretation"
   ]
  },
  {
   "cell_type": "markdown",
   "id": "1b30d332-020c-4bb6-a3e7-5243808d11ef",
   "metadata": {},
   "source": [
    "In positively skewed distributions, the mean is typically greater than the median, which can misrepresent the central tendency if one relies solely on the mean. The median often provides a better measure of central tendency in such cases.\n",
    "Conversely, in negatively skewed distributions, the mean is less than the median, which can also lead to misleading conclusions if not considered carefully."
   ]
  },
  {
   "cell_type": "markdown",
   "id": "ffb42098-2287-4aa7-8877-cdfe4352e91e",
   "metadata": {},
   "source": [
    "Skewness highlights where outliers exist within a dataset. In positively skewed distributions, outliers are typically high values that can disproportionately affect statistical measures like the mean. In negatively skewed distributions, low outliers can similarly distort these measures."
   ]
  },
  {
   "cell_type": "markdown",
   "id": "207b678d-69aa-4136-84c9-c8cca1fea51a",
   "metadata": {},
   "source": [
    "Question7.  What is the interquartile range (IQR), and how is it used to detect outliers?"
   ]
  },
  {
   "cell_type": "markdown",
   "id": "2232a9a9-e188-40ab-b0f8-becd02869b5e",
   "metadata": {},
   "source": [
    "The interquartile range (IQR) is a statistical measure that quantifies the spread of the middle 50% of a dataset. It is calculated as the difference between the third quartile (Q3) and the first quartile (Q1).\n",
    "IQR= Q3-Q1\n",
    "\n",
    "The IQR is particularly useful for identifying outliers in a dataset. Outliers are data points that lie significantly outside the overall pattern of distribution. Here’s how IQR helps in detecting them:\n",
    "Calculate the IQR: First, compute Q1 and Q3 to find the IQR.\n",
    "Determine Outlier Boundaries:\n",
    "\n",
    "Lower Bound=Q1−1.5×IQR\n",
    "\n",
    "Upper Bound=Q3+1.5×IQR\n",
    "Identify Outliers: Any data point that falls below the lower bound or above the upper bound is considered an outlier.\n",
    "\n"
   ]
  },
  {
   "cell_type": "markdown",
   "id": "25f79ebd-cf5f-402f-b982-a2c563ab78cc",
   "metadata": {},
   "source": [
    "Question 8.  Discuss the conditions under which the binomial distribution is used."
   ]
  },
  {
   "cell_type": "markdown",
   "id": "8b8e8145-37f8-46bf-b1ff-7948bfb33c04",
   "metadata": {},
   "source": [
    "there are following conditions of binomial distribution :-\n",
    "1) number of trials should be finite \n",
    "2) each trial should be independent.\n",
    "3) only two possible outcomes (sucess or Failure )\n",
    "4) probability of each output should be same in every trial.\n"
   ]
  },
  {
   "cell_type": "markdown",
   "id": "e200d001-61d1-48ff-9718-6a3ef73f154b",
   "metadata": {},
   "source": [
    "Question 9. Explain the properties of the normal distribution and the empirical rule (68-95-99.7 rule)."
   ]
  },
  {
   "cell_type": "markdown",
   "id": "dd58afe2-ce1a-4c61-a8ba-3324d6e1f112",
   "metadata": {},
   "source": [
    "properties of normal distribution \n",
    "1) Symmetry: The normal distribution is perfectly symmetrical around its mean. This means that the left side of the curve mirrors the right side, and deviations from the mean are equally likely in both directions.\n",
    "2) Unimodal: It has a single peak, which is the highest point of the curve where the mean, median, and mode are all equal. This property indicates that most data points cluster around the central value.\n",
    "3) Bell-Shaped Curve: The graphical representation of a normal distribution is bell-shaped, tapering off symmetrically towards both ends (the tails). This shape reflects the probability density function of the distribution.\n",
    "4) Total Area Under the Curve: The total area under the normal distribution curve equals 1, representing the total probability of all possible outcomes.\n",
    "5) Asymptotic Nature: The tails of the normal distribution approach but never touch the horizontal axis. This means that there is always a non-zero probability of extreme values occurring, although they become increasingly rare.\n",
    "6) Defined by Mean and Standard Deviation: The normal distribution is fully described by its mean (μ) and standard deviation (σ). The mean determines the location of the center of the graph, while the standard deviation controls the spread or width of the distribution:\n",
    "A smaller standard deviation results in a steeper curve.\n",
    "A larger standard deviation produces a flatter curve.\n",
    "7) Central Limit Theorem: Many real-world phenomena can be approximated by a normal distribution due to this theorem, which states that as sample sizes increase, the sampling distribution of the sample mean approaches a normal distribution regardless of the original population's distribution."
   ]
  },
  {
   "cell_type": "markdown",
   "id": "7e70c345-d195-4f44-ac65-9522ba2334d6",
   "metadata": {},
   "source": [
    "Emperical Rule :-"
   ]
  },
  {
   "cell_type": "markdown",
   "id": "5e64e238-15d7-4712-a202-515cbf62a9f7",
   "metadata": {},
   "source": [
    "1) Approximately 68% of observations fall within one standard deviation (σ) from the mean (μ):\n",
    "This means that if you take a dataset that follows a normal distribution, about 68% of data points will lie between \n",
    "μ+σ.\n",
    "\n",
    "2) Approximately 95% of observations fall within two standard deviations:\n",
    "About 95% of data points will lie between \n",
    "μ+2σ.\n",
    "\n",
    "3) Approximately 99.7% of observations fall within three standard deviations:\n",
    "Nearly all (99.7%) data points will lie between \n",
    "μ+3σ."
   ]
  },
  {
   "cell_type": "markdown",
   "id": "bf9d8655-5fec-4f81-ab49-7f5140e86418",
   "metadata": {},
   "source": [
    "Question 10 . Provide a real-life example of a Poisson process and calculate the probability for a specific event"
   ]
  },
  {
   "cell_type": "markdown",
   "id": "86a4b9ef-6bc2-4903-a7ed-fe93996c6dd7",
   "metadata": {},
   "source": [
    "A Poisson process is a statistical model that describes the occurrence of events in a fixed interval of time or space, under certain conditions. A classic real-life example of a Poisson process is the number of customer arrivals at a bank during a specific hour."
   ]
  },
  {
   "cell_type": "markdown",
   "id": "b3eeaf40-9902-41b8-88d5-13e0eca84892",
   "metadata": {},
   "source": [
    " Real-Life Example of a Poisson Process\n",
    "One common example of a Poisson process is the number of customer arrivals at a coffee shop during a given hour. Let's say, on average, the coffee shop receives 10 customers per hour.\n",
    "\n",
    "Parameters\n",
    "Rate (λ): The average number of events in a fixed interval of time (in this case, customers per hour). Here, 𝜆=10.\n",
    "\n",
    "Probability Calculation\n",
    "We can use the Poisson probability formula to calculate the probability of observing k events (customers) in a fixed interval. The formula is:\n",
    "\n",
    "                                         𝑃(𝑋=𝑘)=𝜆𝑘𝑒−𝜆𝑘!\n",
    "\n",
    "Where:\n",
    "* P(X=k) is the probability of observing k events.\n",
    "* λ is the average rate of occurrence.\n",
    "* e is the base of the natural logarithm (approximately equal to 2.71828).\n",
    "* k! is the factorial of k.\n",
    "\n",
    "Example Calculation\n",
    "Let’s calculate the probability of exactly 5 customers arriving in one hour (k=5).\n",
    "\n",
    "1. Substitute the values into the formula:\n",
    "* λ=10\n",
    "* k=5\n",
    "                 𝑃(𝑋=5)=10^5 𝑒^−10/5!\n",
    "2. Calculate 10^5:\n",
    "                           10^5=100000\n",
    "3. Calculate 5!:\n",
    "                           5!=120\n",
    "4. Calculate 𝑒−10 (using a calculator):\n",
    "                           𝑒−10≈0.0000453999\n",
    "5. Combine all parts:\n",
    "                           𝑃(𝑋=5)=100000×0.0000453999/120\n",
    "6. Perform the calculation:\n",
    "                           𝑃(𝑋=5) ≈ 4.53999/120 ≈ 0.03783\n"
   ]
  },
  {
   "cell_type": "markdown",
   "id": "a316aef6-1ab1-4ea5-87a5-00df7388e121",
   "metadata": {},
   "source": [
    "Question11. Explain what a random variable is and differentiate between discrete and continuous random variables."
   ]
  },
  {
   "cell_type": "markdown",
   "id": "7de671a6-7dc7-4103-af99-f79014433a3f",
   "metadata": {},
   "source": [
    "A random variable is a mathematical function that assigns a numerical value to each outcome of a random experiment. It serves as a way to quantify the outcomes of random phenomena, making it easier to analyze and interpret uncertainty in various contexts. Random variables can take on different values based on the results of the experiment, and they are typically denoted by capital letters such as \n",
    "X or Y. \n"
   ]
  },
  {
   "cell_type": "markdown",
   "id": "14231ab0-ca93-4996-803d-518dcde83fd7",
   "metadata": {},
   "source": [
    "Discrete Random Variables\n",
    "A discrete random variable can take on a countable number of distinct values. These values are often specific outcomes of an experiment. For instance:\n",
    "The number of heads when flipping three coins can be 0, 1, 2, or 3.\n",
    "The result of rolling a die can be any integer from 1 to 6.\n",
    "Discrete random variables are characterized by their probability mass function (PMF), which assigns probabilities to each possible value 34. Examples include:\n",
    "The number of students in a classroom.\n",
    "The number of defective items in a batch.\n",
    "\n",
    "\n",
    "\n",
    "Continuous Random Variables\n",
    "In contrast, a continuous random variable can assume any value within a given interval or range. These values are uncountable and typically represent measurements rather than counts. For example:\n",
    "The height of individuals in a population can vary continuously within a range.\n",
    "The time it takes for a computer to complete a task can be any non-negative real number.\n",
    "Continuous random variables are described by their probability density function (PDF), which indicates the likelihood of the variable falling within a particular range rather than taking on specific values 135. Examples include:\n",
    "Temperature readings.\n",
    "The amount of rainfall in a given period."
   ]
  },
  {
   "cell_type": "markdown",
   "id": "fdcebdf1-071f-488f-8865-a06c1d4eb72f",
   "metadata": {},
   "source": [
    "Question 12. Provide an example dataset, calculate both covariance and correlation, and interpret the results."
   ]
  },
  {
   "cell_type": "markdown",
   "id": "ec811cef-0c40-4cd7-b992-39be800e9456",
   "metadata": {},
   "source": [
    "a small example dataset and then calculate the covariance and correlation between the two variables.\n",
    "\n",
    "Example Dataset\n",
    "We'll create a dataset with two variables: X and Y. Here's a simple dataset with five data points:\n",
    "\n",
    "X = [2,4,6,8,10]\n",
    "Y = [3,5,7,9,11]\n",
    "\n",
    "Step 1: Calculate the Mean of X and Y\n",
    "First, we need to calculate the mean of both variables.\n",
    "\n",
    "Mean of X:\n",
    "mean_X = (2 + 4 + 6 + 8 + 10) / 5 = 30/5 = 6\n",
    "\n",
    "Mean of Y:\n",
    "mean_Y = (3 + 5 + 7 + 9 + 11) / 5 = 35/5 = 7\n",
    "\n",
    "Step 2: Calculate the Covariance\n",
    "Covariance measures how much two random variables change together. The formula for covariance is:\n",
    "\n",
    "Cov(𝑋,𝑌)=1𝑛−1∑𝑋𝑖−Mean𝑋)(𝑌𝑖−Mean𝑌)\n",
    "Using the dataset:\n",
    "\n",
    "1. Calculate each (X𝑖−MeanX)(𝑌𝑖−MeanY):\n",
    "  X = [2,4,6,8,10]\n",
    "  Y = [3,5,7,9,11]\n",
    "  Xi − MeanX = [-4,-2,0,2,4]\n",
    "  Yi − MeanY = [-4,-2,0,2,4]\n",
    "  (Xi-Meanx) (Xy-MeanY) = [16,4,0,4,16]\n",
    "2. Sum these Products:\n",
    "               Sum = 16 + 4 + 0 + 4 + 16 = 40\n",
    "3. Calculate Covariance:\n",
    "               Cov(X,Y) = 40 / (5 - 1) = 40 / 4 = 10\n",
    "\n",
    "Step 3: Calculate the Correlation\n",
    "Correlation measures the strength and direction of a linear relationship between two variables. The formula for Pearson correlation is:\n",
    "\n",
    "                               𝑟=Cov(𝑋,𝑌)/𝑠𝑋.𝑠𝑌\n",
    "Where 𝑠𝑋 and 𝑠𝑌 are the standard deviations of 𝑋 and 𝑌, respectively.\n",
    "\n",
    "Interpretation of Results\n",
    "Covariance: The covariance of 10 indicates a positive relationship between X and Y. As X increases, Y tends to increase as well. However, the magnitude of covariance alone doesn’t indicate the strength of the relationship because it is affected by the scale of the variables.\n",
    "\n",
    "Correlation: The correlation of 1 indicates a perfect positive linear relationship between X and Y. This means that for every increase in X, Y increases in a perfectly linear manner. In practical terms, we could express Y as a function of X:\n",
    "𝑌=1 𝑋+1.\n",
    "\n",
    "This analysis demonstrates how covariance and correlation can be useful for understanding relationships between variables."
   ]
  },
  {
   "cell_type": "code",
   "execution_count": null,
   "id": "12af4dff-d9a7-45cf-8093-a6acfd3120bb",
   "metadata": {},
   "outputs": [],
   "source": []
  }
 ],
 "metadata": {
  "kernelspec": {
   "display_name": "Python 3 (ipykernel)",
   "language": "python",
   "name": "python3"
  },
  "language_info": {
   "codemirror_mode": {
    "name": "ipython",
    "version": 3
   },
   "file_extension": ".py",
   "mimetype": "text/x-python",
   "name": "python",
   "nbconvert_exporter": "python",
   "pygments_lexer": "ipython3",
   "version": "3.12.4"
  }
 },
 "nbformat": 4,
 "nbformat_minor": 5
}
